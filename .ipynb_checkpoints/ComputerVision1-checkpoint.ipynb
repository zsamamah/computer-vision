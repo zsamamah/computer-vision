{
 "cells": [
  {
   "cell_type": "code",
   "execution_count": 1,
   "id": "01284ce8",
   "metadata": {},
   "outputs": [
    {
     "ename": "ModuleNotFoundError",
     "evalue": "No module named 'cv2'",
     "output_type": "error",
     "traceback": [
      "\u001b[1;31m---------------------------------------------------------------------------\u001b[0m",
      "\u001b[1;31mModuleNotFoundError\u001b[0m                       Traceback (most recent call last)",
      "Input \u001b[1;32mIn [1]\u001b[0m, in \u001b[0;36m<cell line: 8>\u001b[1;34m()\u001b[0m\n\u001b[0;32m      6\u001b[0m \u001b[38;5;28;01mimport\u001b[39;00m \u001b[38;5;21;01mmatplotlib\u001b[39;00m\u001b[38;5;21;01m.\u001b[39;00m\u001b[38;5;21;01mpyplot\u001b[39;00m \u001b[38;5;28;01mas\u001b[39;00m \u001b[38;5;21;01mplt\u001b[39;00m\n\u001b[0;32m      7\u001b[0m \u001b[38;5;28;01mfrom\u001b[39;00m \u001b[38;5;21;01msympy\u001b[39;00m \u001b[38;5;28;01mimport\u001b[39;00m \u001b[38;5;241m*\u001b[39m\n\u001b[1;32m----> 8\u001b[0m \u001b[38;5;28;01mimport\u001b[39;00m \u001b[38;5;21;01mcv2\u001b[39;00m \u001b[38;5;28;01mas\u001b[39;00m \u001b[38;5;21;01mcv\u001b[39;00m\n\u001b[0;32m      9\u001b[0m \u001b[38;5;28;01mimport\u001b[39;00m \u001b[38;5;21;01mscipy\u001b[39;00m\u001b[38;5;21;01m.\u001b[39;00m\u001b[38;5;21;01mndimage\u001b[39;00m\n\u001b[0;32m     11\u001b[0m picture \u001b[38;5;241m=\u001b[39m \u001b[38;5;124m\"\u001b[39m\u001b[38;5;124mpicture.png\u001b[39m\u001b[38;5;124m\"\u001b[39m\n",
      "\u001b[1;31mModuleNotFoundError\u001b[0m: No module named 'cv2'"
     ]
    }
   ],
   "source": [
    "#1\n",
    "import sys\n",
    "import numpy as np\n",
    "from skimage import io\n",
    "import skimage.feature as sf\n",
    "import matplotlib.pyplot as plt\n",
    "from sympy import *\n",
    "import cv2 as cv\n",
    "import scipy.ndimage\n",
    "\n",
    "picture = \"picture.png\"\n",
    "\n",
    "cam = cv.VideoCapture(0)\n",
    "while True:\n",
    "    ret_val, img = cam.read()\n",
    "    if cv.waitKey(1) == 27:\n",
    "        cv.imwrite(picture, img)\n",
    "        break\n",
    "    elif img is None:\n",
    "        sys.exit('Couldn`t read the image')\n",
    "        break\n",
    "    cv.imshow('My Webcam', img)\n",
    "\n",
    "del cam"
   ]
  },
  {
   "cell_type": "code",
   "execution_count": null,
   "id": "5ea59da5",
   "metadata": {},
   "outputs": [],
   "source": [
    "#2\n",
    "face_cv = cv.imread(picture)\n",
    "cv.imshow('Image', face_cv)\n",
    "cv.waitKey(0)"
   ]
  },
  {
   "cell_type": "code",
   "execution_count": null,
   "id": "0a692a7d",
   "metadata": {},
   "outputs": [],
   "source": [
    "#3-a\n",
    "fig, ax = plt.subplots()\n",
    "face = io.imread(picture)\n",
    "plt.imshow(face)\n",
    "plt.show()\n",
    "points, = ax.plot(40, 200, 'r*')\n",
    "x, y = points.get_data()\n",
    "print(x, y)"
   ]
  },
  {
   "cell_type": "code",
   "execution_count": null,
   "id": "ca65cd5f",
   "metadata": {},
   "outputs": [],
   "source": [
    "#3-b\n",
    "image = face\n",
    "image = image[x[0]:x[0]+10, y[0]:y[0]+10]\n",
    "plt.imshow(image)\n",
    "plt.show()\n",
    "cv.waitKey(0)"
   ]
  },
  {
   "cell_type": "code",
   "execution_count": null,
   "id": "61b742c1",
   "metadata": {},
   "outputs": [],
   "source": [
    "#3-c\n",
    "ired = np.zeros(face.shape)\n",
    "ired[:, :, 0] = face[:, :, 0]\n",
    "\n",
    "igreen = np.zeros(face.shape)\n",
    "igreen[:, :, 1] = face[:, :, 1]\n",
    "\n",
    "iblue = np.zeros(face.shape)\n",
    "iblue[:, :, 2] = face[:, :, 2]\n",
    "\n",
    "cv.imshow('Blue', ired/255)\n",
    "cv.imshow('Green', igreen/255)\n",
    "cv.imshow('Red', iblue/255)\n",
    "cv.waitKey(0)"
   ]
  },
  {
   "cell_type": "code",
   "execution_count": null,
   "id": "93e7f404",
   "metadata": {},
   "outputs": [],
   "source": [
    "#4\n",
    "gray = cv.cvtColor(face_cv, cv.COLOR_BGR2GRAY)\n",
    "cv.imshow('Gray Image', gray)\n",
    "cv.waitKey(0)"
   ]
  },
  {
   "cell_type": "code",
   "execution_count": null,
   "id": "c0dfdf11",
   "metadata": {},
   "outputs": [],
   "source": [
    "#5\n",
    "kernel = np.ones((3, 3), np.float32)/25\n",
    "print(kernel)\n",
    "filtered_image = cv.filter2D(gray, -1, kernel)\n",
    "cv.imshow('Original Image', gray)\n",
    "cv.imshow('Blurred Image', filtered_image)\n",
    "gaussisan = cv.GaussianBlur(gray, (3, 3), 0)\n",
    "cv.imshow('Gaussian Blur', gaussisan)\n",
    "cv.waitKey(0)"
   ]
  },
  {
   "cell_type": "code",
   "execution_count": null,
   "id": "86fe0d2a",
   "metadata": {},
   "outputs": [],
   "source": [
    "#6\n",
    "edges = cv.Laplacian(filtered_image, -1, ksize=5, scale=1, delta=0, borderType=cv.BORDER_DEFAULT)\n",
    "cv.imshow('Edges', edges)\n",
    "cv.waitKey(0)"
   ]
  },
  {
   "cell_type": "code",
   "execution_count": null,
   "id": "7eef62d7",
   "metadata": {},
   "outputs": [],
   "source": [
    "#7\n",
    "\n",
    "#Magnitude\n",
    "f = np.fft.fft2(edges)\n",
    "fshift = np.fft.fftshift(f)\n",
    "magnitude_spectrum = 20*np.log(np.abs(fshift))\n",
    "plt.imshow(magnitude_spectrum, cmap = 'gray')\n",
    "\n",
    "#Phase\n",
    "dft = np.fft.fft2(edges)\n",
    "dft_shift = np.fft.fftshift(dft)\n",
    "phase_spectrum = np.angle(dft_shift)\n",
    "cv.imshow(\"Phase\", phase_spectrum)\n",
    "plt.show()\n",
    "cv.waitKey(0)"
   ]
  },
  {
   "cell_type": "code",
   "execution_count": null,
   "id": "6c8b4c30",
   "metadata": {},
   "outputs": [],
   "source": [
    "#8\n",
    "plt.hist(face.ravel(), 256, [0, 256])\n",
    "plt.show()"
   ]
  },
  {
   "cell_type": "code",
   "execution_count": null,
   "id": "362b1223",
   "metadata": {},
   "outputs": [],
   "source": [
    "#9\n",
    "mask = np.zeros(face.shape[:2], np.uint8)\n",
    "mask[200:450, 150:450] = 255\n",
    "masked_img = cv.bitwise_and(face_cv,face_cv,mask = mask)\n",
    "cv.imshow('Masked Image', masked_img)\n",
    "cv.waitKey(0)"
   ]
  },
  {
   "cell_type": "code",
   "execution_count": null,
   "id": "f560549b",
   "metadata": {},
   "outputs": [],
   "source": [
    "#10\n",
    "rotated = ndimage.rotate(face_cv, 60)\n",
    "cv.imshow(\"Rotated 60 degrees\", rotated)\n",
    "\n",
    "h_flip = cv.flip(face_cv, 1)\n",
    "cv.imshow(\"Horizontal Flip\", h_flip)\n",
    "\n",
    "v_flip = cv.flip(face_cv, 0)\n",
    "cv.imshow(\"Vertical FLip\", v_flip)\n",
    "\n",
    "cv.waitKey(0)\n",
    "cv.destroyAllWindows()"
   ]
  }
 ],
 "metadata": {
  "kernelspec": {
   "display_name": "Python 3 (ipykernel)",
   "language": "python",
   "name": "python3"
  },
  "language_info": {
   "codemirror_mode": {
    "name": "ipython",
    "version": 3
   },
   "file_extension": ".py",
   "mimetype": "text/x-python",
   "name": "python",
   "nbconvert_exporter": "python",
   "pygments_lexer": "ipython3",
   "version": "3.9.12"
  }
 },
 "nbformat": 4,
 "nbformat_minor": 5
}
